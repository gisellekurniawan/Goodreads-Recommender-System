{
 "cells": [
  {
   "cell_type": "markdown",
   "id": "08c449b3-f531-4129-8688-b15e26ce2062",
   "metadata": {
    "tags": []
   },
   "source": [
    "# Goodreads Recommender System\n",
    "### Giselle Kurniawan "
   ]
  },
  {
   "cell_type": "markdown",
   "id": "88476e1f-c111-452f-841e-93a2c17a5f91",
   "metadata": {},
   "source": [
    "### Project Objectives\n",
    "* Making a book recommendation system using the Goodreads Dataset (https://github.com/zygmuntz/goodbooks-10k)\n",
    "* Input: Book -> Output: Books similar to input book\n",
    "* Content-Based Filtering\n",
    "* Memory-Based Collaborative Filtering\n",
    "    - Item Based\n",
    "    - User Based"
   ]
  },
  {
   "cell_type": "markdown",
   "id": "bc3da5fa-053b-4b14-a491-52be0164310b",
   "metadata": {
    "jp-MarkdownHeadingCollapsed": true,
    "tags": []
   },
   "source": [
    "## Importing Libraries and Importing Our Data"
   ]
  },
  {
   "cell_type": "code",
   "execution_count": 1,
   "id": "e3446f46-a5cb-447e-8a05-a70d457c1168",
   "metadata": {},
   "outputs": [],
   "source": [
    "# Importing libraries\n",
    "import json\n",
    "import pandas as pd\n",
    "import numpy as np\n",
    "import os\n",
    "import matplotlib.pyplot as plt"
   ]
  },
  {
   "cell_type": "code",
   "execution_count": 2,
   "id": "b8195a83-e62a-4ef5-bac6-65d7575203fd",
   "metadata": {},
   "outputs": [
    {
     "name": "stdout",
     "output_type": "stream",
     "text": [
      "Current working directory:  /Users/gisellekurniawan/Desktop/Projects/goodreads\n"
     ]
    }
   ],
   "source": [
    "# Changing directory\n",
    "os.chdir('/Users/gisellekurniawan/Desktop/Projects/goodreads')\n",
    "print('Current working directory: ', os.getcwd())"
   ]
  },
  {
   "cell_type": "markdown",
   "id": "bd9f2168-d145-4df0-b613-664ecd2f6bfa",
   "metadata": {
    "jp-MarkdownHeadingCollapsed": true,
    "tags": []
   },
   "source": [
    "## Loading Dataset"
   ]
  },
  {
   "cell_type": "code",
   "execution_count": 3,
   "id": "5e247722-d6ce-4454-ab78-70b9350a0756",
   "metadata": {},
   "outputs": [],
   "source": [
    "ratings = pd.read_csv(\"ratings.csv\") \n",
    "books = pd.read_csv(\"books.csv\")\n",
    "book_tags = pd.read_csv(\"book_tags.csv\")\n",
    "to_read = pd.read_csv(\"to_read.csv\")\n",
    "tags = pd.read_csv(\"tags.csv\")"
   ]
  },
  {
   "cell_type": "markdown",
   "id": "60fe62fb-b0ab-4493-9620-cfbdf621e401",
   "metadata": {
    "jp-MarkdownHeadingCollapsed": true,
    "tags": []
   },
   "source": [
    "## Dataset Cleaning"
   ]
  },
  {
   "cell_type": "markdown",
   "id": "581dafa3-68f1-4de3-9ada-bdb2084d3894",
   "metadata": {
    "tags": []
   },
   "source": [
    "### Cleaning books.csv"
   ]
  },
  {
   "cell_type": "code",
   "execution_count": 4,
   "id": "8d00e37a-bb67-40ea-b781-2d9083e7d351",
   "metadata": {},
   "outputs": [
    {
     "name": "stdout",
     "output_type": "stream",
     "text": [
      "book_id                      0.0000\n",
      "goodreads_book_id            0.0000\n",
      "best_book_id                 0.0000\n",
      "work_id                      0.0000\n",
      "books_count                  0.0000\n",
      "isbn                         0.0700\n",
      "isbn13                       0.0585\n",
      "authors                      0.0000\n",
      "original_publication_year    0.0021\n",
      "original_title               0.0585\n",
      "title                        0.0000\n",
      "language_code                0.1084\n",
      "average_rating               0.0000\n",
      "ratings_count                0.0000\n",
      "work_ratings_count           0.0000\n",
      "work_text_reviews_count      0.0000\n",
      "ratings_1                    0.0000\n",
      "ratings_2                    0.0000\n",
      "ratings_3                    0.0000\n",
      "ratings_4                    0.0000\n",
      "ratings_5                    0.0000\n",
      "image_url                    0.0000\n",
      "small_image_url              0.0000\n",
      "dtype: float64\n"
     ]
    }
   ],
   "source": [
    "# Looking at proportion of missing data\n",
    "print(books.isnull().mean())"
   ]
  },
  {
   "cell_type": "markdown",
   "id": "eb0417dc-f906-4ab9-9c1d-8ca77ad107dd",
   "metadata": {},
   "source": [
    "* **language_code** has the highest percentage of missing data (~10.84%)  \n",
    "* **isbn**, **isbn13**, **original_publication_year**, and **original_title** has a smaller percentage of missing data (.2-7% range)"
   ]
  },
  {
   "cell_type": "code",
   "execution_count": 5,
   "id": "19c7714a-3384-4d1b-8701-341d15fa8db6",
   "metadata": {},
   "outputs": [
    {
     "name": "stdout",
     "output_type": "stream",
     "text": [
      "book_id                      0.0000\n",
      "goodreads_book_id            0.0000\n",
      "best_book_id                 0.0000\n",
      "work_id                      0.0000\n",
      "books_count                  0.0000\n",
      "authors                      0.0000\n",
      "original_publication_year    0.0021\n",
      "original_title               0.0585\n",
      "title                        0.0000\n",
      "average_rating               0.0000\n",
      "ratings_count                0.0000\n",
      "work_ratings_count           0.0000\n",
      "work_text_reviews_count      0.0000\n",
      "ratings_1                    0.0000\n",
      "ratings_2                    0.0000\n",
      "ratings_3                    0.0000\n",
      "ratings_4                    0.0000\n",
      "ratings_5                    0.0000\n",
      "dtype: float64\n"
     ]
    }
   ],
   "source": [
    "# Dropping columns isbn, isbn13, and language_code as not important\n",
    "## books.drop(['isbn', 'isbn13', 'language_code'], axis=1)\n",
    "books = books.drop(['image_url', 'small_image_url', 'isbn', 'isbn13', 'language_code'], axis=1)\n",
    "print(books.isnull().mean())"
   ]
  },
  {
   "cell_type": "code",
   "execution_count": 6,
   "id": "3300006b-be7b-4984-bf34-3f2ce552922b",
   "metadata": {},
   "outputs": [],
   "source": [
    "# Replacing all columns that contain NAs to \"\"\n",
    "str_columns = [\"original_publication_year\", \"original_title\"]\n",
    "for i in str_columns:\n",
    "    books[i] = books[i].fillna(\"\")"
   ]
  },
  {
   "cell_type": "markdown",
   "id": "814240e7-d3be-4103-a0a3-c6ddd6ad3fc0",
   "metadata": {
    "tags": []
   },
   "source": [
    "### Cleaning ratings.csv"
   ]
  },
  {
   "cell_type": "code",
   "execution_count": 7,
   "id": "5fcddd87-7043-4a2c-b1ae-8c9ba7e96f5c",
   "metadata": {},
   "outputs": [
    {
     "data": {
      "text/html": [
       "<div>\n",
       "<style scoped>\n",
       "    .dataframe tbody tr th:only-of-type {\n",
       "        vertical-align: middle;\n",
       "    }\n",
       "\n",
       "    .dataframe tbody tr th {\n",
       "        vertical-align: top;\n",
       "    }\n",
       "\n",
       "    .dataframe thead th {\n",
       "        text-align: right;\n",
       "    }\n",
       "</style>\n",
       "<table border=\"1\" class=\"dataframe\">\n",
       "  <thead>\n",
       "    <tr style=\"text-align: right;\">\n",
       "      <th></th>\n",
       "      <th>user_id</th>\n",
       "      <th>book_id</th>\n",
       "      <th>rating</th>\n",
       "    </tr>\n",
       "  </thead>\n",
       "  <tbody>\n",
       "  </tbody>\n",
       "</table>\n",
       "</div>"
      ],
      "text/plain": [
       "Empty DataFrame\n",
       "Columns: [user_id, book_id, rating]\n",
       "Index: []"
      ]
     },
     "execution_count": 7,
     "metadata": {},
     "output_type": "execute_result"
    }
   ],
   "source": [
    "# Checking for duplicate pairs\n",
    "ratings[ratings.duplicated(['user_id', 'book_id'], keep=False)]"
   ]
  },
  {
   "cell_type": "markdown",
   "id": "204d3917-9fb4-4858-a6d0-a2feb9192004",
   "metadata": {},
   "source": [
    "There are no duplicate pairs!"
   ]
  },
  {
   "cell_type": "code",
   "execution_count": 8,
   "id": "9f1d68e5-d3ed-4806-ac26-deaa208a3187",
   "metadata": {},
   "outputs": [
    {
     "data": {
      "text/html": [
       "<div>\n",
       "<style scoped>\n",
       "    .dataframe tbody tr th:only-of-type {\n",
       "        vertical-align: middle;\n",
       "    }\n",
       "\n",
       "    .dataframe tbody tr th {\n",
       "        vertical-align: top;\n",
       "    }\n",
       "\n",
       "    .dataframe thead th {\n",
       "        text-align: right;\n",
       "    }\n",
       "</style>\n",
       "<table border=\"1\" class=\"dataframe\">\n",
       "  <thead>\n",
       "    <tr style=\"text-align: right;\">\n",
       "      <th></th>\n",
       "      <th>user_id</th>\n",
       "      <th>book_id</th>\n",
       "      <th>rating</th>\n",
       "      <th>title</th>\n",
       "    </tr>\n",
       "  </thead>\n",
       "  <tbody>\n",
       "    <tr>\n",
       "      <th>0</th>\n",
       "      <td>1</td>\n",
       "      <td>258</td>\n",
       "      <td>5</td>\n",
       "      <td>The Shadow of the Wind (The Cemetery of Forgot...</td>\n",
       "    </tr>\n",
       "    <tr>\n",
       "      <th>1</th>\n",
       "      <td>2</td>\n",
       "      <td>4081</td>\n",
       "      <td>4</td>\n",
       "      <td>I am Charlotte Simmons</td>\n",
       "    </tr>\n",
       "    <tr>\n",
       "      <th>2</th>\n",
       "      <td>2</td>\n",
       "      <td>260</td>\n",
       "      <td>5</td>\n",
       "      <td>How to Win Friends and Influence People</td>\n",
       "    </tr>\n",
       "    <tr>\n",
       "      <th>3</th>\n",
       "      <td>2</td>\n",
       "      <td>9296</td>\n",
       "      <td>5</td>\n",
       "      <td>The Drama of the Gifted Child: The Search for ...</td>\n",
       "    </tr>\n",
       "    <tr>\n",
       "      <th>4</th>\n",
       "      <td>2</td>\n",
       "      <td>2318</td>\n",
       "      <td>3</td>\n",
       "      <td>The Millionaire Next Door: The Surprising Secr...</td>\n",
       "    </tr>\n",
       "    <tr>\n",
       "      <th>5</th>\n",
       "      <td>2</td>\n",
       "      <td>26</td>\n",
       "      <td>4</td>\n",
       "      <td>The Da Vinci Code (Robert Langdon, #2)</td>\n",
       "    </tr>\n",
       "    <tr>\n",
       "      <th>6</th>\n",
       "      <td>2</td>\n",
       "      <td>315</td>\n",
       "      <td>3</td>\n",
       "      <td>Who Moved My Cheese?</td>\n",
       "    </tr>\n",
       "    <tr>\n",
       "      <th>7</th>\n",
       "      <td>2</td>\n",
       "      <td>33</td>\n",
       "      <td>4</td>\n",
       "      <td>Memoirs of a Geisha</td>\n",
       "    </tr>\n",
       "    <tr>\n",
       "      <th>8</th>\n",
       "      <td>2</td>\n",
       "      <td>301</td>\n",
       "      <td>5</td>\n",
       "      <td>Heart of Darkness</td>\n",
       "    </tr>\n",
       "    <tr>\n",
       "      <th>9</th>\n",
       "      <td>2</td>\n",
       "      <td>2686</td>\n",
       "      <td>5</td>\n",
       "      <td>Blue Ocean Strategy: How To Create Uncontested...</td>\n",
       "    </tr>\n",
       "  </tbody>\n",
       "</table>\n",
       "</div>"
      ],
      "text/plain": [
       "   user_id  book_id  rating                                              title\n",
       "0        1      258       5  The Shadow of the Wind (The Cemetery of Forgot...\n",
       "1        2     4081       4                             I am Charlotte Simmons\n",
       "2        2      260       5            How to Win Friends and Influence People\n",
       "3        2     9296       5  The Drama of the Gifted Child: The Search for ...\n",
       "4        2     2318       3  The Millionaire Next Door: The Surprising Secr...\n",
       "5        2       26       4             The Da Vinci Code (Robert Langdon, #2)\n",
       "6        2      315       3                               Who Moved My Cheese?\n",
       "7        2       33       4                                Memoirs of a Geisha\n",
       "8        2      301       5                                  Heart of Darkness\n",
       "9        2     2686       5  Blue Ocean Strategy: How To Create Uncontested..."
      ]
     },
     "execution_count": 8,
     "metadata": {},
     "output_type": "execute_result"
    }
   ],
   "source": [
    "# Adding a title column to ratings.csv\n",
    "ratings = pd.merge(ratings, books[['book_id', 'title']], on='book_id', how='left')\n",
    "ratings.head(10)"
   ]
  },
  {
   "cell_type": "markdown",
   "id": "b26cd083-46db-4b8e-8151-6dda5366d584",
   "metadata": {
    "tags": []
   },
   "source": [
    "## Content-Based Recommender"
   ]
  },
  {
   "cell_type": "markdown",
   "id": "1d60250a-a0f7-4464-878d-5bdbba41f2a3",
   "metadata": {},
   "source": [
    "A **content-based recommender** suggests items based on the similarity between the content of the items and the user's preferences. \n",
    "\n",
    "I used https://www.datacamp.com/tutorial/recommender-systems-python as a guide."
   ]
  },
  {
   "cell_type": "markdown",
   "id": "dac00542-dfd0-4bc3-b0b0-96bfb124cec1",
   "metadata": {},
   "source": [
    "**Steps:**\n",
    "1. Identify item and user profiles\n",
    "2. Map each book to its corresponding genre (using tags.csv)\n",
    "3. Convert author names into lowercase and strip all spaces between them \n",
    "4. Use CountVectorizer to create a frequency matrix\n",
    "5. Create a function that takes in a book, and outputs similar books\n",
    "    "
   ]
  },
  {
   "cell_type": "markdown",
   "id": "73ec12ca-5296-4412-94d2-cff3cb44553d",
   "metadata": {
    "tags": []
   },
   "source": [
    "### Identifying item and user profiles"
   ]
  },
  {
   "cell_type": "markdown",
   "id": "ca060f1c-6ea6-4559-bc42-0978fc6bf7c8",
   "metadata": {},
   "source": [
    "In a typical content-based recommendation system, each item is represented by a set of features that describe the item's content.\n",
    "In our case, our features will be **authors**, **genres** and **title**."
   ]
  },
  {
   "cell_type": "code",
   "execution_count": 9,
   "id": "2c09db4d-6b3e-4d7a-8985-0966586b7268",
   "metadata": {},
   "outputs": [],
   "source": [
    "# Importing libraries\n",
    "from sklearn.feature_extraction.text import TfidfVectorizer, CountVectorizer\n",
    "from sklearn.metrics.pairwise import linear_kernel, cosine_similarity"
   ]
  },
  {
   "cell_type": "markdown",
   "id": "e310aa32-75f0-48e6-a32a-7f573aac3c40",
   "metadata": {
    "jp-MarkdownHeadingCollapsed": true,
    "tags": []
   },
   "source": [
    "### Mapping each book to its genre"
   ]
  },
  {
   "cell_type": "markdown",
   "id": "eb4a95ab-393c-4be9-b28d-38663dc85bb4",
   "metadata": {},
   "source": [
    "As we've determined one of our features to be genres, we need to add a genre column to our books dataframe.\n",
    "\n",
    "We can define a function that takes in a book_id and outputs its corresponding genre, then apply this function to the entire books dataset."
   ]
  },
  {
   "cell_type": "code",
   "execution_count": 10,
   "id": "1c8c6508-c043-4eb8-a207-ec68f9775eed",
   "metadata": {},
   "outputs": [],
   "source": [
    "def get_genres(x):\n",
    "    t = book_tags[book_tags.goodreads_book_id==x]\n",
    "    return [i.lower().replace(\" \", \"\") for i in tags.tag_name.loc[t.tag_id].values]"
   ]
  },
  {
   "cell_type": "code",
   "execution_count": 11,
   "id": "93026899-ea6a-4e94-b629-ae3ac6247fa0",
   "metadata": {},
   "outputs": [],
   "source": [
    "books['genres'] = books.book_id.apply(get_genres)"
   ]
  },
  {
   "cell_type": "markdown",
   "id": "d5d00908-e0e1-478e-999f-5f8c782c46c2",
   "metadata": {
    "jp-MarkdownHeadingCollapsed": true,
    "tags": []
   },
   "source": [
    "### Convert Author Names into Lowercase and Strip Spaces between Them"
   ]
  },
  {
   "cell_type": "markdown",
   "id": "62e103d4-b73f-4b81-b02e-91bbeb18cadc",
   "metadata": {},
   "source": [
    "Removing spaces between words is important so that our vectorizer doesn't count \"Stephen Covey\" and \"Stephen King\" as the same. "
   ]
  },
  {
   "cell_type": "code",
   "execution_count": 12,
   "id": "ad763153-1fca-461d-bbbf-a20beb2c561f",
   "metadata": {},
   "outputs": [],
   "source": [
    "books['authors'] = books.authors.apply(lambda x: x.strip().replace(\" \", \"\"))"
   ]
  },
  {
   "cell_type": "markdown",
   "id": "0e20b91a-f625-45cb-acd6-853a6f05018f",
   "metadata": {
    "jp-MarkdownHeadingCollapsed": true,
    "tags": []
   },
   "source": [
    "### Creating our CountVectorizer"
   ]
  },
  {
   "cell_type": "markdown",
   "id": "abac0139-383f-4a8d-b46c-083b147846bb",
   "metadata": {},
   "source": [
    "To feed data to our vectorizer, we need to create a **metadata soup**.  \n",
    "Our metadata soup will consist of our defined features: authors, genres, and title"
   ]
  },
  {
   "cell_type": "code",
   "execution_count": 13,
   "id": "a1e171b2-7033-41d1-b0f8-7ef54db056b2",
   "metadata": {},
   "outputs": [],
   "source": [
    "# Creating our metadata soup\n",
    "def create_soup(x):\n",
    "    return ''.join(x['authors']) + ' ' + ''.join(x['genres']) + ' ' + ''.join(x['title'])\n",
    "                    "
   ]
  },
  {
   "cell_type": "code",
   "execution_count": 14,
   "id": "3fb11cc6-3b68-4800-b4bf-daa1ea501fe3",
   "metadata": {},
   "outputs": [],
   "source": [
    "books['soup'] = books.apply(create_soup, axis=1)"
   ]
  },
  {
   "cell_type": "code",
   "execution_count": 15,
   "id": "c9878d89-bccc-48c8-9e18-5945f5d7edab",
   "metadata": {},
   "outputs": [
    {
     "data": {
      "text/plain": [
       "0    SuzanneCollins to-readfantasyfavoritescurrentl...\n",
       "1    J.K.Rowling,MaryGrandPré to-readcurrently-read...\n",
       "2    StephenieMeyer to-readfavoritesfantasycurrentl...\n",
       "3                     HarperLee  To Kill a Mockingbird\n",
       "4    F.ScottFitzgerald favoritesfantasycurrently-re...\n",
       "Name: soup, dtype: object"
      ]
     },
     "execution_count": 15,
     "metadata": {},
     "output_type": "execute_result"
    }
   ],
   "source": [
    "books['soup'].head()"
   ]
  },
  {
   "cell_type": "code",
   "execution_count": 16,
   "id": "966f2c91-04a0-4eb5-9227-89fc7fd0c28d",
   "metadata": {},
   "outputs": [],
   "source": [
    "count = CountVectorizer(stop_words='english')\n",
    "count_matrix = count.fit_transform(books['soup'])"
   ]
  },
  {
   "cell_type": "code",
   "execution_count": 17,
   "id": "d9385d34-c1b6-4d82-9ff4-eba733ace993",
   "metadata": {},
   "outputs": [],
   "source": [
    "# Compute Cosine Similarity based on the count matrix.\n",
    "cosine_sim = cosine_similarity(count_matrix, count_matrix)"
   ]
  },
  {
   "cell_type": "code",
   "execution_count": 18,
   "id": "1c686e21-c237-4944-af74-7cd3c4fd067b",
   "metadata": {},
   "outputs": [],
   "source": [
    "books = books.reset_index()\n",
    "indices = pd.Series(books.index, index=books['title'])"
   ]
  },
  {
   "cell_type": "markdown",
   "id": "1e793e76-a8ba-4eb4-a084-59c5de118491",
   "metadata": {
    "jp-MarkdownHeadingCollapsed": true,
    "tags": []
   },
   "source": [
    "### Function to recommend a book"
   ]
  },
  {
   "cell_type": "code",
   "execution_count": 19,
   "id": "6723108f-da19-4dbf-85e8-51f46cd301a6",
   "metadata": {},
   "outputs": [],
   "source": [
    "def get_recommendations(title, cosine_sim=cosine_sim):\n",
    "    # Get the index of the book that matches the input \n",
    "    idx = indices[title]\n",
    "    # Get pairwise similarity score of all books with our input\n",
    "    sim_scores = list(enumerate(cosine_sim[idx]))\n",
    "    # Sort the books based on similarity score\n",
    "    sim_scores = sorted(sim_scores, key=lambda x: x[1], reverse=True)\n",
    "    # Get the scores of the top 10 most similar books\n",
    "    sim_scores = sim_scores[1:11]\n",
    "    # Get the book indices associated with these scores\n",
    "    book_indices = [i[0] for i in sim_scores]\n",
    "    # Return the top 10 most similar movies\n",
    "    return books['title'].iloc[book_indices]\n",
    "    "
   ]
  },
  {
   "cell_type": "code",
   "execution_count": 20,
   "id": "a7a8291d-5327-4530-a3ec-8d80df5e6346",
   "metadata": {},
   "outputs": [
    {
     "data": {
      "text/plain": [
       "347                                         We Were Liars\n",
       "8305                            Time and Again (Time, #1)\n",
       "2                                 Twilight (Twilight, #1)\n",
       "0                 The Hunger Games (The Hunger Games, #1)\n",
       "1       Harry Potter and the Sorcerer's Stone (Harry P...\n",
       "9                                     Pride and Prejudice\n",
       "6818    Life is What You Make It: A Story of Love, Hop...\n",
       "5                                  The Fault in Our Stars\n",
       "6271                                       Being and Time\n",
       "6272                                          In Our Time\n",
       "Name: title, dtype: object"
      ]
     },
     "execution_count": 20,
     "metadata": {},
     "output_type": "execute_result"
    }
   ],
   "source": [
    "get_recommendations(\"The Great Gatsby\")"
   ]
  },
  {
   "cell_type": "markdown",
   "id": "15a2ba6e-3d14-4710-a1ed-9378f23df891",
   "metadata": {
    "jp-MarkdownHeadingCollapsed": true,
    "tags": []
   },
   "source": [
    "## Memory Based Collaborative Filtering"
   ]
  },
  {
   "cell_type": "markdown",
   "id": "589f690a-cf06-4694-93da-2385d44ac307",
   "metadata": {},
   "source": [
    "Memory-Based Collaborative Filtering uses historical data to compute similarities between users (user-based) and items (item-based)."
   ]
  },
  {
   "cell_type": "markdown",
   "id": "5798ba62-883d-4ade-9193-dcb7830caf18",
   "metadata": {
    "tags": []
   },
   "source": [
    "## User Based"
   ]
  },
  {
   "cell_type": "markdown",
   "id": "bf049283-50d3-4c57-9533-1cd8bc0a8c13",
   "metadata": {},
   "source": [
    "User-Based Collaborative Filtering recommends books that a user might like by looking at similar users' preferences. "
   ]
  },
  {
   "cell_type": "markdown",
   "id": "719db676-8dfc-4f02-94f9-3a6a704e0f07",
   "metadata": {},
   "source": [
    "Steps:\n",
    "1. Create a user-item matrix\n",
    "2. For a user U, find similar users based on rating vectors consisting of given item ratings.\n",
    "3. Predict ratings for books that user U have not rated using the ratings of given books that other similar users have already rated."
   ]
  },
  {
   "cell_type": "markdown",
   "id": "b2e3f8ac-d3de-4927-9653-0b02fbce79e9",
   "metadata": {
    "tags": []
   },
   "source": [
    "### Creating a user-item matrix"
   ]
  },
  {
   "cell_type": "code",
   "execution_count": 24,
   "id": "a9793175-5d6d-4faa-99fd-7e0c21bd9845",
   "metadata": {},
   "outputs": [],
   "source": [
    "user_item_mat = ratings.pivot_table(index='user_id', columns='book_id', values='rating')"
   ]
  },
  {
   "cell_type": "code",
   "execution_count": 25,
   "id": "841feeba-6851-4ad5-8358-ca5f74367818",
   "metadata": {},
   "outputs": [
    {
     "data": {
      "text/html": [
       "<div>\n",
       "<style scoped>\n",
       "    .dataframe tbody tr th:only-of-type {\n",
       "        vertical-align: middle;\n",
       "    }\n",
       "\n",
       "    .dataframe tbody tr th {\n",
       "        vertical-align: top;\n",
       "    }\n",
       "\n",
       "    .dataframe thead th {\n",
       "        text-align: right;\n",
       "    }\n",
       "</style>\n",
       "<table border=\"1\" class=\"dataframe\">\n",
       "  <thead>\n",
       "    <tr style=\"text-align: right;\">\n",
       "      <th>book_id</th>\n",
       "      <th>1</th>\n",
       "      <th>2</th>\n",
       "      <th>3</th>\n",
       "      <th>4</th>\n",
       "      <th>5</th>\n",
       "      <th>6</th>\n",
       "      <th>7</th>\n",
       "      <th>8</th>\n",
       "      <th>9</th>\n",
       "      <th>10</th>\n",
       "      <th>...</th>\n",
       "      <th>9991</th>\n",
       "      <th>9992</th>\n",
       "      <th>9993</th>\n",
       "      <th>9994</th>\n",
       "      <th>9995</th>\n",
       "      <th>9996</th>\n",
       "      <th>9997</th>\n",
       "      <th>9998</th>\n",
       "      <th>9999</th>\n",
       "      <th>10000</th>\n",
       "    </tr>\n",
       "    <tr>\n",
       "      <th>user_id</th>\n",
       "      <th></th>\n",
       "      <th></th>\n",
       "      <th></th>\n",
       "      <th></th>\n",
       "      <th></th>\n",
       "      <th></th>\n",
       "      <th></th>\n",
       "      <th></th>\n",
       "      <th></th>\n",
       "      <th></th>\n",
       "      <th></th>\n",
       "      <th></th>\n",
       "      <th></th>\n",
       "      <th></th>\n",
       "      <th></th>\n",
       "      <th></th>\n",
       "      <th></th>\n",
       "      <th></th>\n",
       "      <th></th>\n",
       "      <th></th>\n",
       "      <th></th>\n",
       "    </tr>\n",
       "  </thead>\n",
       "  <tbody>\n",
       "    <tr>\n",
       "      <th>1</th>\n",
       "      <td>0.0</td>\n",
       "      <td>0.0</td>\n",
       "      <td>0.0</td>\n",
       "      <td>5.0</td>\n",
       "      <td>0.0</td>\n",
       "      <td>0.0</td>\n",
       "      <td>0.0</td>\n",
       "      <td>0.0</td>\n",
       "      <td>0.0</td>\n",
       "      <td>4.0</td>\n",
       "      <td>...</td>\n",
       "      <td>0.0</td>\n",
       "      <td>0.0</td>\n",
       "      <td>0.0</td>\n",
       "      <td>0.0</td>\n",
       "      <td>0.0</td>\n",
       "      <td>0.0</td>\n",
       "      <td>0.0</td>\n",
       "      <td>0.0</td>\n",
       "      <td>0.0</td>\n",
       "      <td>0.0</td>\n",
       "    </tr>\n",
       "    <tr>\n",
       "      <th>2</th>\n",
       "      <td>0.0</td>\n",
       "      <td>5.0</td>\n",
       "      <td>0.0</td>\n",
       "      <td>0.0</td>\n",
       "      <td>5.0</td>\n",
       "      <td>0.0</td>\n",
       "      <td>0.0</td>\n",
       "      <td>4.0</td>\n",
       "      <td>0.0</td>\n",
       "      <td>5.0</td>\n",
       "      <td>...</td>\n",
       "      <td>0.0</td>\n",
       "      <td>0.0</td>\n",
       "      <td>0.0</td>\n",
       "      <td>0.0</td>\n",
       "      <td>0.0</td>\n",
       "      <td>0.0</td>\n",
       "      <td>0.0</td>\n",
       "      <td>0.0</td>\n",
       "      <td>0.0</td>\n",
       "      <td>0.0</td>\n",
       "    </tr>\n",
       "    <tr>\n",
       "      <th>3</th>\n",
       "      <td>0.0</td>\n",
       "      <td>0.0</td>\n",
       "      <td>0.0</td>\n",
       "      <td>3.0</td>\n",
       "      <td>0.0</td>\n",
       "      <td>0.0</td>\n",
       "      <td>0.0</td>\n",
       "      <td>0.0</td>\n",
       "      <td>0.0</td>\n",
       "      <td>0.0</td>\n",
       "      <td>...</td>\n",
       "      <td>0.0</td>\n",
       "      <td>0.0</td>\n",
       "      <td>0.0</td>\n",
       "      <td>0.0</td>\n",
       "      <td>0.0</td>\n",
       "      <td>0.0</td>\n",
       "      <td>0.0</td>\n",
       "      <td>0.0</td>\n",
       "      <td>0.0</td>\n",
       "      <td>0.0</td>\n",
       "    </tr>\n",
       "    <tr>\n",
       "      <th>4</th>\n",
       "      <td>0.0</td>\n",
       "      <td>5.0</td>\n",
       "      <td>0.0</td>\n",
       "      <td>4.0</td>\n",
       "      <td>4.0</td>\n",
       "      <td>0.0</td>\n",
       "      <td>4.0</td>\n",
       "      <td>4.0</td>\n",
       "      <td>0.0</td>\n",
       "      <td>5.0</td>\n",
       "      <td>...</td>\n",
       "      <td>0.0</td>\n",
       "      <td>0.0</td>\n",
       "      <td>0.0</td>\n",
       "      <td>0.0</td>\n",
       "      <td>0.0</td>\n",
       "      <td>0.0</td>\n",
       "      <td>0.0</td>\n",
       "      <td>0.0</td>\n",
       "      <td>0.0</td>\n",
       "      <td>0.0</td>\n",
       "    </tr>\n",
       "    <tr>\n",
       "      <th>5</th>\n",
       "      <td>0.0</td>\n",
       "      <td>0.0</td>\n",
       "      <td>0.0</td>\n",
       "      <td>0.0</td>\n",
       "      <td>0.0</td>\n",
       "      <td>4.0</td>\n",
       "      <td>0.0</td>\n",
       "      <td>0.0</td>\n",
       "      <td>0.0</td>\n",
       "      <td>0.0</td>\n",
       "      <td>...</td>\n",
       "      <td>0.0</td>\n",
       "      <td>0.0</td>\n",
       "      <td>0.0</td>\n",
       "      <td>0.0</td>\n",
       "      <td>0.0</td>\n",
       "      <td>0.0</td>\n",
       "      <td>0.0</td>\n",
       "      <td>0.0</td>\n",
       "      <td>0.0</td>\n",
       "      <td>0.0</td>\n",
       "    </tr>\n",
       "  </tbody>\n",
       "</table>\n",
       "<p>5 rows × 10000 columns</p>\n",
       "</div>"
      ],
      "text/plain": [
       "book_id  1      2      3      4      5      6      7      8      9      10     \\\n",
       "user_id                                                                         \n",
       "1          0.0    0.0    0.0    5.0    0.0    0.0    0.0    0.0    0.0    4.0   \n",
       "2          0.0    5.0    0.0    0.0    5.0    0.0    0.0    4.0    0.0    5.0   \n",
       "3          0.0    0.0    0.0    3.0    0.0    0.0    0.0    0.0    0.0    0.0   \n",
       "4          0.0    5.0    0.0    4.0    4.0    0.0    4.0    4.0    0.0    5.0   \n",
       "5          0.0    0.0    0.0    0.0    0.0    4.0    0.0    0.0    0.0    0.0   \n",
       "\n",
       "book_id  ...  9991   9992   9993   9994   9995   9996   9997   9998   9999   \\\n",
       "user_id  ...                                                                  \n",
       "1        ...    0.0    0.0    0.0    0.0    0.0    0.0    0.0    0.0    0.0   \n",
       "2        ...    0.0    0.0    0.0    0.0    0.0    0.0    0.0    0.0    0.0   \n",
       "3        ...    0.0    0.0    0.0    0.0    0.0    0.0    0.0    0.0    0.0   \n",
       "4        ...    0.0    0.0    0.0    0.0    0.0    0.0    0.0    0.0    0.0   \n",
       "5        ...    0.0    0.0    0.0    0.0    0.0    0.0    0.0    0.0    0.0   \n",
       "\n",
       "book_id  10000  \n",
       "user_id         \n",
       "1          0.0  \n",
       "2          0.0  \n",
       "3          0.0  \n",
       "4          0.0  \n",
       "5          0.0  \n",
       "\n",
       "[5 rows x 10000 columns]"
      ]
     },
     "execution_count": 25,
     "metadata": {},
     "output_type": "execute_result"
    }
   ],
   "source": [
    "user_item_mat = user_item_mat.fillna(0)\n",
    "user_item_mat.head()"
   ]
  },
  {
   "cell_type": "markdown",
   "id": "ea11a464-06ec-4919-8423-64649171ef52",
   "metadata": {
    "jp-MarkdownHeadingCollapsed": true,
    "tags": []
   },
   "source": [
    "### Defining a Function to Find Similar Users"
   ]
  },
  {
   "cell_type": "code",
   "execution_count": 26,
   "id": "4c797a2a-8335-4d7e-ab68-802cbe1d0c25",
   "metadata": {},
   "outputs": [],
   "source": [
    "from sklearn.metrics.pairwise import cosine_similarity\n",
    "import operator"
   ]
  },
  {
   "cell_type": "code",
   "execution_count": 27,
   "id": "6a93ce86-366f-4e7f-873a-a390f3f69e87",
   "metadata": {},
   "outputs": [],
   "source": [
    "def similar_users(user_id, mat, k=3):\n",
    "    # Creating a data frame of user_id x\n",
    "    user = mat[mat.index == user_id]\n",
    "    # Creating a data frame of other users\n",
    "    other_users = mat[mat.index != user_id]\n",
    "    # Creating list of indices (user_ids) of other_users\n",
    "    indices = other_users.index.tolist()\n",
    "    # Computing cosine similarity between user_id x and other users\n",
    "    sim_score = cosine_similarity(user, other_users)[0].tolist()\n",
    "    # Creating key-value pairs of other users' user_ids and their similarity scores\n",
    "    index_sim = dict(zip(indices, sim_score))\n",
    "    # Sorting Sim Scores in Decreasing Order\n",
    "    index_sim_sorted = sorted(index_sim.items(), key=lambda item: item[1], reverse=True)\n",
    "    # Getting only top k similar users\n",
    "    top_k_users_sim = index_sim_sorted[:k] \n",
    "    # user_ids of top k similar users\n",
    "    users = [x[0] for x in top_k_users_sim]\n",
    "    return users\n",
    "    "
   ]
  },
  {
   "cell_type": "markdown",
   "id": "4e6e4ab3-2a59-4c37-a3c3-1069e335e4eb",
   "metadata": {
    "jp-MarkdownHeadingCollapsed": true,
    "tags": []
   },
   "source": [
    "### Defining a Function that Suggests Books"
   ]
  },
  {
   "cell_type": "code",
   "execution_count": 28,
   "id": "5d3eba45-842a-4fb0-8c70-4dcc16dd6e98",
   "metadata": {},
   "outputs": [],
   "source": [
    "def recommend_me(user_id, i=5):\n",
    "    # Getting user_ids of similar users\n",
    "    sim_users = similar_users(user_id, user_item_mat)\n",
    "    # Similar Users Books and their Ratings\n",
    "    sim_users = user_item_mat[user_item_mat.index.isin(sim_users)]\n",
    "    # Getting other users overall average rating of books\n",
    "    sim_users = sim_users.mean(axis=0)\n",
    "    # Converting to dataframe\n",
    "    sim_users_df =  pd.DataFrame(sim_users, columns=['mean'])\n",
    "    # User_id's book and ratings\n",
    "    user_books = user_item_mat[user_item_mat.index == user_id].transpose()\n",
    "    # Rename column name in user_books to rating\n",
    "    user_books.columns = ['rating']\n",
    "    # Getting a list of unseen books\n",
    "    books_unseen = user_books[user_books.rating == 0].index.tolist()\n",
    "    # Filter sim_users_df to only show books user_id hasn't seen\n",
    "    sim_users_df = sim_users_df[sim_users_df.index.isin(books_unseen)]\n",
    "    # Sorting this dataframe based on decreasing average rating and getting only top i books\n",
    "    sim_users_df_sorted = sim_users_df.sort_values(by='mean', ascending=False)[:i]\n",
    "    # Converting this dataframe into a list\n",
    "    top_books = sim_users_df_sorted.index.tolist()\n",
    "    # Finding these books in the books dataframe to get names\n",
    "    rec_books = books[books['book_id'].isin(top_books)]\n",
    "    return rec_books\n",
    "    "
   ]
  },
  {
   "cell_type": "code",
   "execution_count": 29,
   "id": "d0c56201-cb61-4a56-8f01-24c04b9b4271",
   "metadata": {},
   "outputs": [
    {
     "data": {
      "text/html": [
       "<div>\n",
       "<style scoped>\n",
       "    .dataframe tbody tr th:only-of-type {\n",
       "        vertical-align: middle;\n",
       "    }\n",
       "\n",
       "    .dataframe tbody tr th {\n",
       "        vertical-align: top;\n",
       "    }\n",
       "\n",
       "    .dataframe thead th {\n",
       "        text-align: right;\n",
       "    }\n",
       "</style>\n",
       "<table border=\"1\" class=\"dataframe\">\n",
       "  <thead>\n",
       "    <tr style=\"text-align: right;\">\n",
       "      <th></th>\n",
       "      <th>index</th>\n",
       "      <th>book_id</th>\n",
       "      <th>goodreads_book_id</th>\n",
       "      <th>best_book_id</th>\n",
       "      <th>work_id</th>\n",
       "      <th>books_count</th>\n",
       "      <th>authors</th>\n",
       "      <th>original_publication_year</th>\n",
       "      <th>original_title</th>\n",
       "      <th>title</th>\n",
       "      <th>...</th>\n",
       "      <th>ratings_count</th>\n",
       "      <th>work_ratings_count</th>\n",
       "      <th>work_text_reviews_count</th>\n",
       "      <th>ratings_1</th>\n",
       "      <th>ratings_2</th>\n",
       "      <th>ratings_3</th>\n",
       "      <th>ratings_4</th>\n",
       "      <th>ratings_5</th>\n",
       "      <th>genres</th>\n",
       "      <th>soup</th>\n",
       "    </tr>\n",
       "  </thead>\n",
       "  <tbody>\n",
       "    <tr>\n",
       "      <th>3</th>\n",
       "      <td>3</td>\n",
       "      <td>4</td>\n",
       "      <td>2657</td>\n",
       "      <td>2657</td>\n",
       "      <td>3275794</td>\n",
       "      <td>487</td>\n",
       "      <td>HarperLee</td>\n",
       "      <td>1960.0</td>\n",
       "      <td>To Kill a Mockingbird</td>\n",
       "      <td>To Kill a Mockingbird</td>\n",
       "      <td>...</td>\n",
       "      <td>3198671</td>\n",
       "      <td>3340896</td>\n",
       "      <td>72586</td>\n",
       "      <td>60427</td>\n",
       "      <td>117415</td>\n",
       "      <td>446835</td>\n",
       "      <td>1001952</td>\n",
       "      <td>1714267</td>\n",
       "      <td>[]</td>\n",
       "      <td>HarperLee  To Kill a Mockingbird</td>\n",
       "    </tr>\n",
       "    <tr>\n",
       "      <th>12</th>\n",
       "      <td>12</td>\n",
       "      <td>13</td>\n",
       "      <td>5470</td>\n",
       "      <td>5470</td>\n",
       "      <td>153313</td>\n",
       "      <td>995</td>\n",
       "      <td>GeorgeOrwell,ErichFromm,CelâlÜster</td>\n",
       "      <td>1949.0</td>\n",
       "      <td>Nineteen Eighty-Four</td>\n",
       "      <td>1984</td>\n",
       "      <td>...</td>\n",
       "      <td>1956832</td>\n",
       "      <td>2053394</td>\n",
       "      <td>45518</td>\n",
       "      <td>41845</td>\n",
       "      <td>86425</td>\n",
       "      <td>324874</td>\n",
       "      <td>692021</td>\n",
       "      <td>908229</td>\n",
       "      <td>[to-read, currently-reading, favorites, scienc...</td>\n",
       "      <td>GeorgeOrwell,ErichFromm,CelâlÜster to-readcurr...</td>\n",
       "    </tr>\n",
       "    <tr>\n",
       "      <th>13</th>\n",
       "      <td>13</td>\n",
       "      <td>14</td>\n",
       "      <td>7613</td>\n",
       "      <td>7613</td>\n",
       "      <td>2207778</td>\n",
       "      <td>896</td>\n",
       "      <td>GeorgeOrwell</td>\n",
       "      <td>1945.0</td>\n",
       "      <td>Animal Farm: A Fairy Story</td>\n",
       "      <td>Animal Farm</td>\n",
       "      <td>...</td>\n",
       "      <td>1881700</td>\n",
       "      <td>1982987</td>\n",
       "      <td>35472</td>\n",
       "      <td>66854</td>\n",
       "      <td>135147</td>\n",
       "      <td>433432</td>\n",
       "      <td>698642</td>\n",
       "      <td>648912</td>\n",
       "      <td>[]</td>\n",
       "      <td>GeorgeOrwell  Animal Farm</td>\n",
       "    </tr>\n",
       "    <tr>\n",
       "      <th>27</th>\n",
       "      <td>27</td>\n",
       "      <td>28</td>\n",
       "      <td>7624</td>\n",
       "      <td>7624</td>\n",
       "      <td>2766512</td>\n",
       "      <td>458</td>\n",
       "      <td>WilliamGolding</td>\n",
       "      <td>1954.0</td>\n",
       "      <td>Lord of the Flies</td>\n",
       "      <td>Lord of the Flies</td>\n",
       "      <td>...</td>\n",
       "      <td>1605019</td>\n",
       "      <td>1671484</td>\n",
       "      <td>26886</td>\n",
       "      <td>92779</td>\n",
       "      <td>160295</td>\n",
       "      <td>425648</td>\n",
       "      <td>564916</td>\n",
       "      <td>427846</td>\n",
       "      <td>[to-read, travel, non-fiction, currently-readi...</td>\n",
       "      <td>WilliamGolding to-readtravelnon-fictioncurrent...</td>\n",
       "    </tr>\n",
       "    <tr>\n",
       "      <th>34</th>\n",
       "      <td>34</td>\n",
       "      <td>35</td>\n",
       "      <td>865</td>\n",
       "      <td>865</td>\n",
       "      <td>4835472</td>\n",
       "      <td>458</td>\n",
       "      <td>PauloCoelho,AlanR.Clarke</td>\n",
       "      <td>1988.0</td>\n",
       "      <td>O Alquimista</td>\n",
       "      <td>The Alchemist</td>\n",
       "      <td>...</td>\n",
       "      <td>1299566</td>\n",
       "      <td>1403995</td>\n",
       "      <td>55781</td>\n",
       "      <td>74846</td>\n",
       "      <td>123614</td>\n",
       "      <td>289143</td>\n",
       "      <td>412180</td>\n",
       "      <td>504212</td>\n",
       "      <td>[]</td>\n",
       "      <td>PauloCoelho,AlanR.Clarke  The Alchemist</td>\n",
       "    </tr>\n",
       "  </tbody>\n",
       "</table>\n",
       "<p>5 rows × 21 columns</p>\n",
       "</div>"
      ],
      "text/plain": [
       "    index  book_id  goodreads_book_id  best_book_id  work_id  books_count  \\\n",
       "3       3        4               2657          2657  3275794          487   \n",
       "12     12       13               5470          5470   153313          995   \n",
       "13     13       14               7613          7613  2207778          896   \n",
       "27     27       28               7624          7624  2766512          458   \n",
       "34     34       35                865           865  4835472          458   \n",
       "\n",
       "                               authors original_publication_year  \\\n",
       "3                            HarperLee                    1960.0   \n",
       "12  GeorgeOrwell,ErichFromm,CelâlÜster                    1949.0   \n",
       "13                        GeorgeOrwell                    1945.0   \n",
       "27                      WilliamGolding                    1954.0   \n",
       "34            PauloCoelho,AlanR.Clarke                    1988.0   \n",
       "\n",
       "                original_title                  title  ...  ratings_count  \\\n",
       "3        To Kill a Mockingbird  To Kill a Mockingbird  ...        3198671   \n",
       "12        Nineteen Eighty-Four                   1984  ...        1956832   \n",
       "13  Animal Farm: A Fairy Story            Animal Farm  ...        1881700   \n",
       "27          Lord of the Flies       Lord of the Flies  ...        1605019   \n",
       "34                O Alquimista          The Alchemist  ...        1299566   \n",
       "\n",
       "    work_ratings_count  work_text_reviews_count  ratings_1  ratings_2  \\\n",
       "3              3340896                    72586      60427     117415   \n",
       "12             2053394                    45518      41845      86425   \n",
       "13             1982987                    35472      66854     135147   \n",
       "27             1671484                    26886      92779     160295   \n",
       "34             1403995                    55781      74846     123614   \n",
       "\n",
       "    ratings_3  ratings_4  ratings_5  \\\n",
       "3      446835    1001952    1714267   \n",
       "12     324874     692021     908229   \n",
       "13     433432     698642     648912   \n",
       "27     425648     564916     427846   \n",
       "34     289143     412180     504212   \n",
       "\n",
       "                                               genres  \\\n",
       "3                                                  []   \n",
       "12  [to-read, currently-reading, favorites, scienc...   \n",
       "13                                                 []   \n",
       "27  [to-read, travel, non-fiction, currently-readi...   \n",
       "34                                                 []   \n",
       "\n",
       "                                                 soup  \n",
       "3                    HarperLee  To Kill a Mockingbird  \n",
       "12  GeorgeOrwell,ErichFromm,CelâlÜster to-readcurr...  \n",
       "13                          GeorgeOrwell  Animal Farm  \n",
       "27  WilliamGolding to-readtravelnon-fictioncurrent...  \n",
       "34            PauloCoelho,AlanR.Clarke  The Alchemist  \n",
       "\n",
       "[5 rows x 21 columns]"
      ]
     },
     "execution_count": 29,
     "metadata": {},
     "output_type": "execute_result"
    }
   ],
   "source": [
    "recommend_me(2)"
   ]
  },
  {
   "cell_type": "markdown",
   "id": "35de8dd2-2b17-4848-8bbb-5a6a5af2bc08",
   "metadata": {
    "tags": []
   },
   "source": [
    "## Item Based"
   ]
  },
  {
   "cell_type": "markdown",
   "id": "36ed47fe-75b7-401d-806d-fac58c767063",
   "metadata": {},
   "source": [
    "Item-Based Collaborative Filtering recommends books by looking into the similarities between books, and predicting missing ratings by using ratings to the other items by the user."
   ]
  },
  {
   "cell_type": "markdown",
   "id": "c8ba6093-9e98-494c-8ca4-da8b5be8035e",
   "metadata": {},
   "source": [
    "Steps:\n",
    "1. Create an item_user_matrix\n",
    "2. Find similarities between all book pairs.\n",
    "3. Recommend books by choosing top k books that are closely correlated with our given book."
   ]
  },
  {
   "cell_type": "markdown",
   "id": "a77398f2-d866-4a4a-b719-c7ae06c0dc9f",
   "metadata": {
    "jp-MarkdownHeadingCollapsed": true,
    "tags": []
   },
   "source": [
    "### Creating an item-user matrix"
   ]
  },
  {
   "cell_type": "code",
   "execution_count": 35,
   "id": "7a224595-64fa-4c56-bb23-72527964d792",
   "metadata": {},
   "outputs": [],
   "source": [
    "item_user_mat = ratings.pivot_table(index='user_id', columns='book_id', values='rating')"
   ]
  },
  {
   "cell_type": "code",
   "execution_count": 37,
   "id": "01cc885b-64cd-41e1-83ad-92348c5f33ac",
   "metadata": {},
   "outputs": [
    {
     "data": {
      "text/html": [
       "<div>\n",
       "<style scoped>\n",
       "    .dataframe tbody tr th:only-of-type {\n",
       "        vertical-align: middle;\n",
       "    }\n",
       "\n",
       "    .dataframe tbody tr th {\n",
       "        vertical-align: top;\n",
       "    }\n",
       "\n",
       "    .dataframe thead th {\n",
       "        text-align: right;\n",
       "    }\n",
       "</style>\n",
       "<table border=\"1\" class=\"dataframe\">\n",
       "  <thead>\n",
       "    <tr style=\"text-align: right;\">\n",
       "      <th>book_id</th>\n",
       "      <th>1</th>\n",
       "      <th>2</th>\n",
       "      <th>3</th>\n",
       "      <th>4</th>\n",
       "      <th>5</th>\n",
       "      <th>6</th>\n",
       "      <th>7</th>\n",
       "      <th>8</th>\n",
       "      <th>9</th>\n",
       "      <th>10</th>\n",
       "      <th>...</th>\n",
       "      <th>9991</th>\n",
       "      <th>9992</th>\n",
       "      <th>9993</th>\n",
       "      <th>9994</th>\n",
       "      <th>9995</th>\n",
       "      <th>9996</th>\n",
       "      <th>9997</th>\n",
       "      <th>9998</th>\n",
       "      <th>9999</th>\n",
       "      <th>10000</th>\n",
       "    </tr>\n",
       "    <tr>\n",
       "      <th>user_id</th>\n",
       "      <th></th>\n",
       "      <th></th>\n",
       "      <th></th>\n",
       "      <th></th>\n",
       "      <th></th>\n",
       "      <th></th>\n",
       "      <th></th>\n",
       "      <th></th>\n",
       "      <th></th>\n",
       "      <th></th>\n",
       "      <th></th>\n",
       "      <th></th>\n",
       "      <th></th>\n",
       "      <th></th>\n",
       "      <th></th>\n",
       "      <th></th>\n",
       "      <th></th>\n",
       "      <th></th>\n",
       "      <th></th>\n",
       "      <th></th>\n",
       "      <th></th>\n",
       "    </tr>\n",
       "  </thead>\n",
       "  <tbody>\n",
       "    <tr>\n",
       "      <th>1</th>\n",
       "      <td>0.0</td>\n",
       "      <td>0.0</td>\n",
       "      <td>0.0</td>\n",
       "      <td>5.0</td>\n",
       "      <td>0.0</td>\n",
       "      <td>0.0</td>\n",
       "      <td>0.0</td>\n",
       "      <td>0.0</td>\n",
       "      <td>0.0</td>\n",
       "      <td>4.0</td>\n",
       "      <td>...</td>\n",
       "      <td>0.0</td>\n",
       "      <td>0.0</td>\n",
       "      <td>0.0</td>\n",
       "      <td>0.0</td>\n",
       "      <td>0.0</td>\n",
       "      <td>0.0</td>\n",
       "      <td>0.0</td>\n",
       "      <td>0.0</td>\n",
       "      <td>0.0</td>\n",
       "      <td>0.0</td>\n",
       "    </tr>\n",
       "    <tr>\n",
       "      <th>2</th>\n",
       "      <td>0.0</td>\n",
       "      <td>5.0</td>\n",
       "      <td>0.0</td>\n",
       "      <td>0.0</td>\n",
       "      <td>5.0</td>\n",
       "      <td>0.0</td>\n",
       "      <td>0.0</td>\n",
       "      <td>4.0</td>\n",
       "      <td>0.0</td>\n",
       "      <td>5.0</td>\n",
       "      <td>...</td>\n",
       "      <td>0.0</td>\n",
       "      <td>0.0</td>\n",
       "      <td>0.0</td>\n",
       "      <td>0.0</td>\n",
       "      <td>0.0</td>\n",
       "      <td>0.0</td>\n",
       "      <td>0.0</td>\n",
       "      <td>0.0</td>\n",
       "      <td>0.0</td>\n",
       "      <td>0.0</td>\n",
       "    </tr>\n",
       "    <tr>\n",
       "      <th>3</th>\n",
       "      <td>0.0</td>\n",
       "      <td>0.0</td>\n",
       "      <td>0.0</td>\n",
       "      <td>3.0</td>\n",
       "      <td>0.0</td>\n",
       "      <td>0.0</td>\n",
       "      <td>0.0</td>\n",
       "      <td>0.0</td>\n",
       "      <td>0.0</td>\n",
       "      <td>0.0</td>\n",
       "      <td>...</td>\n",
       "      <td>0.0</td>\n",
       "      <td>0.0</td>\n",
       "      <td>0.0</td>\n",
       "      <td>0.0</td>\n",
       "      <td>0.0</td>\n",
       "      <td>0.0</td>\n",
       "      <td>0.0</td>\n",
       "      <td>0.0</td>\n",
       "      <td>0.0</td>\n",
       "      <td>0.0</td>\n",
       "    </tr>\n",
       "    <tr>\n",
       "      <th>4</th>\n",
       "      <td>0.0</td>\n",
       "      <td>5.0</td>\n",
       "      <td>0.0</td>\n",
       "      <td>4.0</td>\n",
       "      <td>4.0</td>\n",
       "      <td>0.0</td>\n",
       "      <td>4.0</td>\n",
       "      <td>4.0</td>\n",
       "      <td>0.0</td>\n",
       "      <td>5.0</td>\n",
       "      <td>...</td>\n",
       "      <td>0.0</td>\n",
       "      <td>0.0</td>\n",
       "      <td>0.0</td>\n",
       "      <td>0.0</td>\n",
       "      <td>0.0</td>\n",
       "      <td>0.0</td>\n",
       "      <td>0.0</td>\n",
       "      <td>0.0</td>\n",
       "      <td>0.0</td>\n",
       "      <td>0.0</td>\n",
       "    </tr>\n",
       "    <tr>\n",
       "      <th>5</th>\n",
       "      <td>0.0</td>\n",
       "      <td>0.0</td>\n",
       "      <td>0.0</td>\n",
       "      <td>0.0</td>\n",
       "      <td>0.0</td>\n",
       "      <td>4.0</td>\n",
       "      <td>0.0</td>\n",
       "      <td>0.0</td>\n",
       "      <td>0.0</td>\n",
       "      <td>0.0</td>\n",
       "      <td>...</td>\n",
       "      <td>0.0</td>\n",
       "      <td>0.0</td>\n",
       "      <td>0.0</td>\n",
       "      <td>0.0</td>\n",
       "      <td>0.0</td>\n",
       "      <td>0.0</td>\n",
       "      <td>0.0</td>\n",
       "      <td>0.0</td>\n",
       "      <td>0.0</td>\n",
       "      <td>0.0</td>\n",
       "    </tr>\n",
       "  </tbody>\n",
       "</table>\n",
       "<p>5 rows × 10000 columns</p>\n",
       "</div>"
      ],
      "text/plain": [
       "book_id  1      2      3      4      5      6      7      8      9      10     \\\n",
       "user_id                                                                         \n",
       "1          0.0    0.0    0.0    5.0    0.0    0.0    0.0    0.0    0.0    4.0   \n",
       "2          0.0    5.0    0.0    0.0    5.0    0.0    0.0    4.0    0.0    5.0   \n",
       "3          0.0    0.0    0.0    3.0    0.0    0.0    0.0    0.0    0.0    0.0   \n",
       "4          0.0    5.0    0.0    4.0    4.0    0.0    4.0    4.0    0.0    5.0   \n",
       "5          0.0    0.0    0.0    0.0    0.0    4.0    0.0    0.0    0.0    0.0   \n",
       "\n",
       "book_id  ...  9991   9992   9993   9994   9995   9996   9997   9998   9999   \\\n",
       "user_id  ...                                                                  \n",
       "1        ...    0.0    0.0    0.0    0.0    0.0    0.0    0.0    0.0    0.0   \n",
       "2        ...    0.0    0.0    0.0    0.0    0.0    0.0    0.0    0.0    0.0   \n",
       "3        ...    0.0    0.0    0.0    0.0    0.0    0.0    0.0    0.0    0.0   \n",
       "4        ...    0.0    0.0    0.0    0.0    0.0    0.0    0.0    0.0    0.0   \n",
       "5        ...    0.0    0.0    0.0    0.0    0.0    0.0    0.0    0.0    0.0   \n",
       "\n",
       "book_id  10000  \n",
       "user_id         \n",
       "1          0.0  \n",
       "2          0.0  \n",
       "3          0.0  \n",
       "4          0.0  \n",
       "5          0.0  \n",
       "\n",
       "[5 rows x 10000 columns]"
      ]
     },
     "execution_count": 37,
     "metadata": {},
     "output_type": "execute_result"
    }
   ],
   "source": [
    "item_user_mat = item_user_mat.fillna(0)\n",
    "item_user_mat.head()"
   ]
  },
  {
   "cell_type": "code",
   "execution_count": 88,
   "id": "8d2a84a6-01e0-4cfb-a650-ff8ed862d60a",
   "metadata": {},
   "outputs": [],
   "source": [
    "def get_similar(title, mat, b = 5):\n",
    "    # Getting similarity matrix of only given book\n",
    "    title_user_ratings = mat[title]\n",
    "    # Computes pairwise correlation between user_item similarity matrix and the similarity matrix of only given book\n",
    "    similar_to_title = mat.corrwith(title_user_ratings)\n",
    "    # Creating a dataframe of books and its correlation scores\n",
    "    corr_title = pd.DataFrame(similar_to_title, columns=['correlation'])\n",
    "    corr_title.dropna(inplace=True)\n",
    "    # Sort this dataframe in descending order\n",
    "    corr_title.sort_values('correlation', ascending=False, inplace=True)\n",
    "    # Finding top b books\n",
    "    top_books = corr_title.index.tolist()[1:b]\n",
    "    # Finding these books in the books dataframe to get names\n",
    "    top_books = books[books['book_id'].isin(top_books)]\n",
    "    return top_books"
   ]
  },
  {
   "cell_type": "code",
   "execution_count": 93,
   "id": "39162de0-2e1b-4c14-baa2-e0a91dea4fb2",
   "metadata": {},
   "outputs": [
    {
     "data": {
      "text/plain": [
       "book_id\n",
       "1        1.000000\n",
       "2        0.314606\n",
       "3        0.349821\n",
       "4        0.117798\n",
       "5        0.081628\n",
       "           ...   \n",
       "9996    -0.010968\n",
       "9997    -0.021445\n",
       "9998    -0.012843\n",
       "9999     0.005286\n",
       "10000   -0.019142\n",
       "Length: 10000, dtype: float64"
      ]
     },
     "execution_count": 93,
     "metadata": {},
     "output_type": "execute_result"
    }
   ],
   "source": [
    "user_item_mat.corrwith(user_item_mat[1])"
   ]
  }
 ],
 "metadata": {
  "kernelspec": {
   "display_name": "Python 3 (ipykernel)",
   "language": "python",
   "name": "python3"
  },
  "language_info": {
   "codemirror_mode": {
    "name": "ipython",
    "version": 3
   },
   "file_extension": ".py",
   "mimetype": "text/x-python",
   "name": "python",
   "nbconvert_exporter": "python",
   "pygments_lexer": "ipython3",
   "version": "3.11.5"
  }
 },
 "nbformat": 4,
 "nbformat_minor": 5
}
